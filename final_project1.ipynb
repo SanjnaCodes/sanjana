{
  "cells": [
    {
      "cell_type": "markdown",
      "metadata": {
        "id": "view-in-github",
        "colab_type": "text"
      },
      "source": [
        "<a href=\"https://colab.research.google.com/github/sanjana1512/sanjana1512/blob/main/final_project1.ipynb\" target=\"_parent\"><img src=\"https://colab.research.google.com/assets/colab-badge.svg\" alt=\"Open In Colab\"/></a>"
      ]
    },
    {
      "cell_type": "code",
      "execution_count": null,
      "metadata": {
        "id": "8FZaoORMVjSj"
      },
      "outputs": [],
      "source": [
        "import collections\n",
        "\n",
        "import numpy as np\n",
        "import pandas as pd"
      ]
    },
    {
      "cell_type": "code",
      "execution_count": null,
      "metadata": {
        "id": "jLl-H2QPVjSp"
      },
      "outputs": [],
      "source": [
        "my_trainingdataset= pd.read_csv('train.csv') #reading train.csv"
      ]
    },
    {
      "cell_type": "code",
      "execution_count": null,
      "metadata": {
        "id": "V-nuMwwfVjSq"
      },
      "outputs": [],
      "source": [
        "my_testingdataset= pd.read_csv('test.csv') #reading test.csv"
      ]
    },
    {
      "cell_type": "code",
      "execution_count": null,
      "metadata": {
        "id": "qRIxOEHTVjSq",
        "outputId": "aa8dd77d-9819-41fd-c4d8-dfa47bc708a4"
      },
      "outputs": [
        {
          "name": "stdout",
          "output_type": "stream",
          "text": [
            "<class 'pandas.core.frame.DataFrame'>\n",
            "RangeIndex: 2000 entries, 0 to 1999\n",
            "Data columns (total 21 columns):\n",
            " #   Column         Non-Null Count  Dtype  \n",
            "---  ------         --------------  -----  \n",
            " 0   battery_power  2000 non-null   int64  \n",
            " 1   blue           2000 non-null   int64  \n",
            " 2   clock_speed    2000 non-null   float64\n",
            " 3   dual_sim       2000 non-null   int64  \n",
            " 4   fc             2000 non-null   int64  \n",
            " 5   four_g         2000 non-null   int64  \n",
            " 6   int_memory     2000 non-null   int64  \n",
            " 7   m_dep          2000 non-null   float64\n",
            " 8   mobile_wt      2000 non-null   int64  \n",
            " 9   n_cores        2000 non-null   int64  \n",
            " 10  pc             2000 non-null   int64  \n",
            " 11  px_height      2000 non-null   int64  \n",
            " 12  px_width       2000 non-null   int64  \n",
            " 13  ram            2000 non-null   int64  \n",
            " 14  sc_h           2000 non-null   int64  \n",
            " 15  sc_w           2000 non-null   int64  \n",
            " 16  talk_time      2000 non-null   int64  \n",
            " 17  three_g        2000 non-null   int64  \n",
            " 18  touch_screen   2000 non-null   int64  \n",
            " 19  wifi           2000 non-null   int64  \n",
            " 20  price_range    2000 non-null   int64  \n",
            "dtypes: float64(2), int64(19)\n",
            "memory usage: 328.2 KB\n"
          ]
        }
      ],
      "source": [
        "my_trainingdataset.info() #info of training dataset"
      ]
    },
    {
      "cell_type": "code",
      "execution_count": null,
      "metadata": {
        "id": "-doobJ-0VjSr",
        "outputId": "6e2f84da-52dd-4ee0-ec68-3a30130f8445"
      },
      "outputs": [
        {
          "name": "stdout",
          "output_type": "stream",
          "text": [
            "<class 'pandas.core.frame.DataFrame'>\n",
            "RangeIndex: 1000 entries, 0 to 999\n",
            "Data columns (total 21 columns):\n",
            " #   Column         Non-Null Count  Dtype  \n",
            "---  ------         --------------  -----  \n",
            " 0   id             1000 non-null   int64  \n",
            " 1   battery_power  1000 non-null   int64  \n",
            " 2   blue           1000 non-null   int64  \n",
            " 3   clock_speed    1000 non-null   float64\n",
            " 4   dual_sim       1000 non-null   int64  \n",
            " 5   fc             1000 non-null   int64  \n",
            " 6   four_g         1000 non-null   int64  \n",
            " 7   int_memory     1000 non-null   int64  \n",
            " 8   m_dep          1000 non-null   float64\n",
            " 9   mobile_wt      1000 non-null   int64  \n",
            " 10  n_cores        1000 non-null   int64  \n",
            " 11  pc             1000 non-null   int64  \n",
            " 12  px_height      1000 non-null   int64  \n",
            " 13  px_width       1000 non-null   int64  \n",
            " 14  ram            1000 non-null   int64  \n",
            " 15  sc_h           1000 non-null   int64  \n",
            " 16  sc_w           1000 non-null   int64  \n",
            " 17  talk_time      1000 non-null   int64  \n",
            " 18  three_g        1000 non-null   int64  \n",
            " 19  touch_screen   1000 non-null   int64  \n",
            " 20  wifi           1000 non-null   int64  \n",
            "dtypes: float64(2), int64(19)\n",
            "memory usage: 164.2 KB\n"
          ]
        }
      ],
      "source": [
        "my_testingdataset.info() #info of testing dataset"
      ]
    },
    {
      "cell_type": "code",
      "execution_count": null,
      "metadata": {
        "id": "I-rJOXVaVjSs",
        "outputId": "73a01ef4-4e5c-482b-bb70-452b31a2c80e"
      },
      "outputs": [
        {
          "name": "stdout",
          "output_type": "stream",
          "text": [
            "Size of train data:(2000, 21)\n",
            "Size of test data:(1000, 21)\n"
          ]
        }
      ],
      "source": [
        "#both training and testing dataset has no null values\n",
        "#now will find the size of training and testing data\n",
        "print('Size of train data:{0}'.format(my_trainingdataset.shape))\n",
        "print('Size of test data:{0}'.format(my_testingdataset.shape))"
      ]
    },
    {
      "cell_type": "code",
      "execution_count": null,
      "metadata": {
        "id": "wE1-V4lPVjSs",
        "outputId": "71c1893a-47c3-41bb-916e-f2eea130ac54"
      },
      "outputs": [
        {
          "name": "stdout",
          "output_type": "stream",
          "text": [
            "battery_power    0.0\n",
            "blue             0.0\n",
            "clock_speed      0.0\n",
            "dual_sim         0.0\n",
            "fc               0.0\n",
            "four_g           0.0\n",
            "int_memory       0.0\n",
            "m_dep            0.0\n",
            "mobile_wt        0.0\n",
            "n_cores          0.0\n",
            "pc               0.0\n",
            "px_height        0.0\n",
            "px_width         0.0\n",
            "ram              0.0\n",
            "sc_h             0.0\n",
            "sc_w             0.0\n",
            "talk_time        0.0\n",
            "three_g          0.0\n",
            "touch_screen     0.0\n",
            "wifi             0.0\n",
            "price_range      0.0\n",
            "dtype: float64 2\n"
          ]
        }
      ],
      "source": [
        "#find null values if any in train.csv\n",
        "print(round(my_trainingdataset.isnull().sum()/len(my_trainingdataset)),2)"
      ]
    },
    {
      "cell_type": "code",
      "execution_count": null,
      "metadata": {
        "id": "EKf6qcxCVjSt",
        "outputId": "794a1faf-db04-462d-91dd-781ddf2c1a0d"
      },
      "outputs": [
        {
          "name": "stdout",
          "output_type": "stream",
          "text": [
            "id               0.0\n",
            "battery_power    0.0\n",
            "blue             0.0\n",
            "clock_speed      0.0\n",
            "dual_sim         0.0\n",
            "fc               0.0\n",
            "four_g           0.0\n",
            "int_memory       0.0\n",
            "m_dep            0.0\n",
            "mobile_wt        0.0\n",
            "n_cores          0.0\n",
            "pc               0.0\n",
            "px_height        0.0\n",
            "px_width         0.0\n",
            "ram              0.0\n",
            "sc_h             0.0\n",
            "sc_w             0.0\n",
            "talk_time        0.0\n",
            "three_g          0.0\n",
            "touch_screen     0.0\n",
            "wifi             0.0\n",
            "dtype: float64 2\n"
          ]
        }
      ],
      "source": [
        "#find null values if any in test.csv\n",
        "print(round(my_testingdataset.isnull().sum()/len(my_testingdataset)),2)"
      ]
    },
    {
      "cell_type": "code",
      "execution_count": null,
      "metadata": {
        "id": "LM-4WAngVjSu"
      },
      "outputs": [],
      "source": [
        "#as we have identified there are no null values we can do splitting\n",
        "#we are spliting the independent and the dependent variables\n",
        "X = my_trainingdataset.drop('price_range', axis = 1) #dropping the price_range dataset\n",
        "y = my_trainingdataset['price_range']"
      ]
    },
    {
      "cell_type": "code",
      "execution_count": null,
      "metadata": {
        "id": "_-lV-2cNVjSu"
      },
      "outputs": [],
      "source": [
        "# Creating training and test data\n",
        "from sklearn.model_selection import train_test_split\n",
        "X_train, X_test, y_train, y_test = train_test_split(X,y, train_size= 0.7, test_size= 0.3, random_state = 0) #0.7 and 0.3\n",
        "#because it cant be greater than 1"
      ]
    },
    {
      "cell_type": "code",
      "execution_count": null,
      "metadata": {
        "id": "3GVW-MYeVjSv"
      },
      "outputs": [],
      "source": [
        "# Storing the column names  for train and test\n",
        "X_train_col = X_train.columns\n",
        "\n",
        "X_test_col = X_test.columns"
      ]
    },
    {
      "cell_type": "code",
      "execution_count": null,
      "metadata": {
        "id": "4OAhZhBDVjSv"
      },
      "outputs": [],
      "source": [
        "#data then needs to be converted into array\n",
        "\n",
        "X_train, y_train = np.array(X_train), np.array(y_train)"
      ]
    },
    {
      "cell_type": "code",
      "execution_count": null,
      "metadata": {
        "id": "F5IsXuJbVjSv"
      },
      "outputs": [],
      "source": [
        "#we will now use the standard scaler to scale the training and testing dataset\n",
        "from sklearn.preprocessing import StandardScaler\n",
        "scaler = StandardScaler()"
      ]
    },
    {
      "cell_type": "code",
      "execution_count": null,
      "metadata": {
        "id": "0lYnxDusVjSw"
      },
      "outputs": [],
      "source": [
        "X_train = scaler.fit_transform(X_train)\n",
        "X_test = scaler.fit_transform(X_test)"
      ]
    },
    {
      "cell_type": "code",
      "execution_count": null,
      "metadata": {
        "id": "WlzJcbxZVjSw"
      },
      "outputs": [],
      "source": [
        "#we will now reverse back the array into dataframe\n",
        "X_train = pd.DataFrame(X_train, columns = X_train_col)\n",
        "X_test = pd.DataFrame(X_test, columns = X_test_col)"
      ]
    },
    {
      "cell_type": "code",
      "execution_count": null,
      "metadata": {
        "id": "GvUKqBd3VjSx",
        "outputId": "9c17c986-b0b6-4d4f-a3d0-f636a984a77f"
      },
      "outputs": [
        {
          "name": "stdout",
          "output_type": "stream",
          "text": [
            "<class 'pandas.core.frame.DataFrame'>\n",
            "RangeIndex: 2000 entries, 0 to 1999\n",
            "Data columns (total 21 columns):\n",
            " #   Column         Non-Null Count  Dtype  \n",
            "---  ------         --------------  -----  \n",
            " 0   battery_power  2000 non-null   int64  \n",
            " 1   blue           2000 non-null   int64  \n",
            " 2   clock_speed    2000 non-null   float64\n",
            " 3   dual_sim       2000 non-null   int64  \n",
            " 4   fc             2000 non-null   int64  \n",
            " 5   four_g         2000 non-null   int64  \n",
            " 6   int_memory     2000 non-null   int64  \n",
            " 7   m_dep          2000 non-null   float64\n",
            " 8   mobile_wt      2000 non-null   int64  \n",
            " 9   n_cores        2000 non-null   int64  \n",
            " 10  pc             2000 non-null   int64  \n",
            " 11  px_height      2000 non-null   int64  \n",
            " 12  px_width       2000 non-null   int64  \n",
            " 13  ram            2000 non-null   int64  \n",
            " 14  sc_h           2000 non-null   int64  \n",
            " 15  sc_w           2000 non-null   int64  \n",
            " 16  talk_time      2000 non-null   int64  \n",
            " 17  three_g        2000 non-null   int64  \n",
            " 18  touch_screen   2000 non-null   int64  \n",
            " 19  wifi           2000 non-null   int64  \n",
            " 20  price_range    2000 non-null   int64  \n",
            "dtypes: float64(2), int64(19)\n",
            "memory usage: 328.2 KB\n"
          ]
        }
      ],
      "source": [
        "my_trainingdataset.info()"
      ]
    },
    {
      "cell_type": "code",
      "execution_count": null,
      "metadata": {
        "id": "HK_7Tr0jVjSx",
        "outputId": "814c1ec2-beb9-44f5-ca2e-8c6cc5a7de06"
      },
      "outputs": [
        {
          "data": {
            "text/plain": [
              "DecisionTreeClassifier()"
            ]
          },
          "execution_count": 17,
          "metadata": {},
          "output_type": "execute_result"
        }
      ],
      "source": [
        "#as we have done the splitting and the standarscaling we can start building the model for our dataset.\n",
        "#in this particular dataset we are using accuracy as the metric of comparision and not using the precision.\n",
        "#this is because if we wanted to focus on one category of the phone precision would be a better option. Since, the price classification of \n",
        "#our model doesnt rely on one category we need to consider most of them.\n",
        "#the first classification method is decision tree.\n",
        "from sklearn.tree import DecisionTreeClassifier\n",
        "model_decisiontree = DecisionTreeClassifier()\n",
        "model_decisiontree.fit(X_train, y_train)"
      ]
    },
    {
      "cell_type": "code",
      "execution_count": null,
      "metadata": {
        "id": "kIBajsgWVjSy",
        "outputId": "58389cd2-0a8e-409a-e0b6-c4a46145de97"
      },
      "outputs": [
        {
          "name": "stdout",
          "output_type": "stream",
          "text": [
            "Printing the Confusion Matrix\n",
            "[[135  15   0   0]\n",
            " [ 16 109  23   1]\n",
            " [  0  11 111  25]\n",
            " [  0   0  17 137]]\n",
            "\n",
            "\n",
            "Accuracy of confusion matrix: 82.0 %\n"
          ]
        }
      ],
      "source": [
        "from sklearn.metrics import confusion_matrix\n",
        "from sklearn.metrics import accuracy_score\n",
        "\n",
        "pred_model = model_decisiontree.predict(X_test)\n",
        "\n",
        "con_matr = confusion_matrix(pred_model, y_test)\n",
        "print(\"Printing the Confusion Matrix\")\n",
        "print(con_matr)\n",
        "print(\"\\n\")\n",
        "print(f'Accuracy of confusion matrix: {accuracy_score(pred_model, y_test)*100} %')"
      ]
    },
    {
      "cell_type": "code",
      "execution_count": null,
      "metadata": {
        "id": "IWhSMEg8VjSy",
        "outputId": "adbde504-f07b-4971-cd5e-28d4292640fa"
      },
      "outputs": [
        {
          "name": "stdout",
          "output_type": "stream",
          "text": [
            "Accuracy : 88.72727272727273 %\n",
            "\n",
            "**************************************************\n",
            "\n",
            "we will also find precision and recall\n",
            "Precision: 87.90322580645162 %\n",
            "Recall   : 87.2 %\n",
            "**************************************************\n"
          ]
        }
      ],
      "source": [
        "a = con_matr[0,0]\n",
        "b = con_matr[0,1]\n",
        "c = con_matr[1,1]\n",
        "d = con_matr[1,0]\n",
        "\n",
        "accuracy  = (c + a) / (c + b + a + d)\n",
        "precision = c / (c + b)\n",
        "recall    = c / (c + d)\n",
        "\n",
        "print(f'Accuracy : {accuracy*100} %')\n",
        "print()\n",
        "print('*'*50)\n",
        "print()\n",
        "print('we will also find precision and recall')\n",
        "\n",
        "print(f'Precision: {precision*100} %')\n",
        "print(f'Recall   : {recall*100} %')\n",
        "print('*'*50)"
      ]
    },
    {
      "cell_type": "code",
      "execution_count": null,
      "metadata": {
        "id": "6_NebrEMVjSz"
      },
      "outputs": [],
      "source": [
        "#random forest classifer\n",
        "from sklearn.ensemble import RandomForestClassifier"
      ]
    },
    {
      "cell_type": "code",
      "execution_count": null,
      "metadata": {
        "id": "Z_iZSDHoVjS0"
      },
      "outputs": [],
      "source": [
        "model = RandomForestClassifier(class_weight='balanced')"
      ]
    },
    {
      "cell_type": "code",
      "execution_count": null,
      "metadata": {
        "id": "EUu9rDuGVjS0"
      },
      "outputs": [],
      "source": [
        "#parameters used in this model\n",
        "max_depth = [2,10,20]\n",
        "criterion = ['gini','entropy'] \n",
        "#gini- Tests the probability of mis-labeling of any variable in the dataset when randomly marked.\n",
        "#entropy- shows the disorder of the target's features\n",
        "min_samples_split = [2,3,5,7,9,10]\n",
        "max_features = [2,4,6,8,10,12]"
      ]
    },
    {
      "cell_type": "code",
      "execution_count": null,
      "metadata": {
        "id": "GuuEQP_gVjS1"
      },
      "outputs": [],
      "source": [
        "#definimg the grid and implementing the grid search.\n",
        "\n",
        "from sklearn.model_selection import KFold\n",
        "from sklearn.model_selection import GridSearchCV\n",
        "\n",
        "grid = dict(max_depth = max_depth, criterion = criterion, min_samples_split = min_samples_split, max_features = max_features)\n",
        "cv = KFold(n_splits = 5) #number of folds used for cross validation\n",
        "\n",
        "grid_search = GridSearchCV(estimator = model, param_grid = grid, cv = cv,n_jobs = -1)\n",
        "grid_result = grid_search.fit(X_train, y_train)"
      ]
    },
    {
      "cell_type": "code",
      "execution_count": null,
      "metadata": {
        "id": "SDwr-ToZVjS1",
        "outputId": "229f8d90-387f-4cd3-9423-0d9393ca68db"
      },
      "outputs": [
        {
          "name": "stdout",
          "output_type": "stream",
          "text": [
            "Best possible outcome: 0.897857 using {'criterion': 'entropy', 'max_depth': 10, 'max_features': 8, 'min_samples_split': 5}\n"
          ]
        }
      ],
      "source": [
        "#printing the criterion, max_Depth, max_features and min_samples_split used. \n",
        "\n",
        "get_poss= (grid_result.best_score_, grid_result.best_params_)\n",
        "\n",
        "print(\"Best possible outcome: %f using %s\" % (get_poss))"
      ]
    },
    {
      "cell_type": "code",
      "execution_count": null,
      "metadata": {
        "id": "SpjZbpWMVjS2",
        "outputId": "dedb0df0-cc9f-458e-d13d-6a057a8a4ae2"
      },
      "outputs": [
        {
          "name": "stdout",
          "output_type": "stream",
          "text": [
            "Best estimated Accuracy of the Random Forest is 89.167%\n",
            "--------------------------------------------------\n",
            "\n",
            "\n",
            "Model Report:\n",
            "--------------------------------------------------\n",
            "              precision    recall  f1-score   support\n",
            "\n",
            "           0       0.94      0.99      0.96       151\n",
            "           1       0.84      0.90      0.87       135\n",
            "           2       0.84      0.81      0.82       151\n",
            "           3       0.95      0.87      0.91       163\n",
            "\n",
            "    accuracy                           0.89       600\n",
            "   macro avg       0.89      0.89      0.89       600\n",
            "weighted avg       0.89      0.89      0.89       600\n",
            "\n"
          ]
        }
      ],
      "source": [
        "#best possible outcome predicted- check\n",
        "#we used classification_Report library for this classification\n",
        "getres = RandomForestClassifier(criterion = 'entropy', max_depth = 10, max_features = 8, min_samples_split = 5)\n",
        "getres.fit(X_train, y_train)\n",
        "prediction_rf = getres.predict(X_test)\n",
        "\n",
        "from sklearn.metrics import classification_report\n",
        "print('Best estimated Accuracy of the Random Forest is {0}%'.format(round(((accuracy_score(y_test, prediction_rf)*100)),3)))\n",
        "accuracy_ofrf = accuracy_score(y_test, prediction_rf)\n",
        "print('-'*50)\n",
        "print('\\n')\n",
        "print('Model Report:')\n",
        "print('-'*50)\n",
        "print(classification_report(y_test, prediction_rf))"
      ]
    },
    {
      "cell_type": "code",
      "execution_count": null,
      "metadata": {
        "id": "1BaZjAXKVjS2",
        "outputId": "2564a5e1-7c47-4170-d189-4cf981d00474"
      },
      "outputs": [
        {
          "name": "stdout",
          "output_type": "stream",
          "text": [
            "Randomly selected Accuracy of the Random Forest is 82.833%\n",
            "--------------------------------------------------\n",
            "\n",
            "\n",
            "Model Report:\n",
            "--------------------------------------------------\n",
            "              precision    recall  f1-score   support\n",
            "\n",
            "           0       0.92      0.94      0.93       151\n",
            "           1       0.71      0.79      0.75       135\n",
            "           2       0.75      0.69      0.72       151\n",
            "           3       0.92      0.88      0.90       163\n",
            "\n",
            "    accuracy                           0.83       600\n",
            "   macro avg       0.83      0.83      0.82       600\n",
            "weighted avg       0.83      0.83      0.83       600\n",
            "\n"
          ]
        }
      ],
      "source": [
        "#checking other possibility\n",
        "getres_1 = RandomForestClassifier(criterion = 'entropy', max_depth = 20, max_features = 2, min_samples_split = 5)\n",
        "getres_1.fit(X_train, y_train)\n",
        "prediction_rf_1 = getres_1.predict(X_test)\n",
        "\n",
        "\n",
        "print('Randomly selected Accuracy of the Random Forest is {0}%'.format(round(((accuracy_score(y_test, prediction_rf_1)*100)),3)))\n",
        "accuracy_ofrf = accuracy_score(y_test, prediction_rf_1)\n",
        "print('-'*50)\n",
        "print('\\n')\n",
        "print('Model Report:')\n",
        "print('-'*50)\n",
        "print(classification_report(y_test, prediction_rf_1))"
      ]
    },
    {
      "cell_type": "code",
      "execution_count": null,
      "metadata": {
        "id": "sB_SwGYtVjS2"
      },
      "outputs": [],
      "source": [
        "#we could say that the estimated accuracy is better"
      ]
    },
    {
      "cell_type": "code",
      "execution_count": null,
      "metadata": {
        "id": "8rZCMq86VjS2"
      },
      "outputs": [],
      "source": [
        "#Naive Bayes Classifier\n",
        "#we used classification_Report library for this classification\n",
        "from sklearn.naive_bayes import GaussianNB\n",
        "model = GaussianNB()\n",
        "var_smoothing = np.logspace(0,-9, num=100)\n",
        "\n",
        "#estimating the best var_smoothing\n",
        "grid = dict(var_smoothing = var_smoothing)\n",
        "cv = KFold(n_splits = 5)\n",
        "\n",
        "grid_search = GridSearchCV(estimator = model, param_grid = grid,n_jobs = -1, cv = cv)\n",
        "grid_result = grid_search.fit(X_train, y_train)"
      ]
    },
    {
      "cell_type": "code",
      "execution_count": null,
      "metadata": {
        "id": "sMhVnpd7VjS3",
        "outputId": "78e74b46-5a8f-4e6d-de01-3a868bbf8bd0"
      },
      "outputs": [
        {
          "name": "stdout",
          "output_type": "stream",
          "text": [
            "Best var_smoothining accuracy 0.814286 using {'var_smoothing': 0.23101297000831597} \n"
          ]
        }
      ],
      "source": [
        "print(\"Best var_smoothining accuracy %f using %s \"%(grid_result.best_score_, grid_result.best_params_))"
      ]
    },
    {
      "cell_type": "code",
      "execution_count": null,
      "metadata": {
        "id": "BzK2SOhQVjS3",
        "outputId": "555978bf-0900-4b3c-971f-be91662f2db3"
      },
      "outputs": [
        {
          "name": "stdout",
          "output_type": "stream",
          "text": [
            "Best estimated Accuracy of the Naive Bayes is 83.333 %\n",
            "--------------------------------------------------\n",
            "\n",
            "\n",
            "Model Report:\n",
            "--------------------------------------------------\n",
            "              precision    recall  f1-score   support\n",
            "\n",
            "           0       0.92      0.97      0.95       151\n",
            "           1       0.73      0.76      0.75       135\n",
            "           2       0.71      0.75      0.73       151\n",
            "           3       0.97      0.84      0.90       163\n",
            "\n",
            "    accuracy                           0.83       600\n",
            "   macro avg       0.83      0.83      0.83       600\n",
            "weighted avg       0.84      0.83      0.83       600\n",
            "\n"
          ]
        }
      ],
      "source": [
        "#following the best var_smoothing predicted\n",
        "naive_bais = GaussianNB(var_smoothing = 0.23101297000831597)\n",
        "naive_bais.fit(X_train, y_train)\n",
        "naive_bais_predict = naive_bais.predict(X_test)\n",
        "print('Best estimated Accuracy of the Naive Bayes is {0} %'.format(round(((accuracy_score(y_test, naive_bais_predict))*100),3)))\n",
        "naive_bais_accuracy = accuracy_score(y_test, naive_bais_predict)\n",
        "print('-'*50)\n",
        "print('\\n')\n",
        "print('Model Report:')\n",
        "print('-'*50)\n",
        "print(classification_report(y_test, naive_bais_predict))"
      ]
    },
    {
      "cell_type": "code",
      "execution_count": null,
      "metadata": {
        "id": "qwncr7hgVjS3",
        "outputId": "9371c3e2-ca3d-418f-a856-3516924eca0a"
      },
      "outputs": [
        {
          "name": "stdout",
          "output_type": "stream",
          "text": [
            "Best estimated Accuracy of the Naive Bayes is 82.667 %\n",
            "--------------------------------------------------\n",
            "\n",
            "\n",
            "Model Report:\n",
            "--------------------------------------------------\n",
            "              precision    recall  f1-score   support\n",
            "\n",
            "           0       0.92      0.98      0.95       151\n",
            "           1       0.72      0.76      0.74       135\n",
            "           2       0.70      0.74      0.72       151\n",
            "           3       0.98      0.82      0.89       163\n",
            "\n",
            "    accuracy                           0.83       600\n",
            "   macro avg       0.83      0.83      0.82       600\n",
            "weighted avg       0.83      0.83      0.83       600\n",
            "\n"
          ]
        }
      ],
      "source": [
        "#using random value of var_smoothing\n",
        "naive_bais = GaussianNB(var_smoothing = 0.44342423)\n",
        "naive_bais.fit(X_train, y_train)\n",
        "naive_bais_predict = naive_bais.predict(X_test)\n",
        "print('Best estimated Accuracy of the Naive Bayes is {0} %'.format(round(((accuracy_score(y_test, naive_bais_predict))*100),3)))\n",
        "naive_bais_accuracy = accuracy_score(y_test, naive_bais_predict)\n",
        "print('-'*50)\n",
        "print('\\n')\n",
        "print('Model Report:')\n",
        "print('-'*50)\n",
        "print(classification_report(y_test, naive_bais_predict))"
      ]
    },
    {
      "cell_type": "code",
      "execution_count": null,
      "metadata": {
        "id": "p_IiYYckVjS3"
      },
      "outputs": [],
      "source": [
        "#we could say that the estimated accuracy is better"
      ]
    },
    {
      "cell_type": "code",
      "execution_count": null,
      "metadata": {
        "id": "YOmsVORLVjS4",
        "outputId": "6b0b011d-d68f-4a79-e22b-129748de788b"
      },
      "outputs": [
        {
          "data": {
            "text/plain": [
              "KNeighborsClassifier(n_neighbors=10)"
            ]
          },
          "execution_count": 37,
          "metadata": {},
          "output_type": "execute_result"
        }
      ],
      "source": [
        "#KNN classifier\n",
        "#KNN can have the lowest possible accuracy\n",
        "\n",
        "from sklearn.neighbors import KNeighborsClassifier\n",
        "classifier = KNeighborsClassifier(n_neighbors = 10, metric = 'minkowski', p =2) #Minkowski Distance is used\n",
        "classifier.fit(X_train, y_train)"
      ]
    },
    {
      "cell_type": "code",
      "execution_count": null,
      "metadata": {
        "id": "NxpjJOXmVjS4",
        "outputId": "32838e32-1974-4cf9-f519-fbad7787af9a"
      },
      "outputs": [
        {
          "name": "stdout",
          "output_type": "stream",
          "text": [
            "[[99 47  3  2]\n",
            " [40 65 25  5]\n",
            " [ 9 60 64 18]\n",
            " [ 0 13 59 91]]\n"
          ]
        }
      ],
      "source": [
        "store_prediction = classifier.predict(X_test)\n",
        "classifier_knn = confusion_matrix(y_test, store_prediction)\n",
        "print(classifier_knn)"
      ]
    },
    {
      "cell_type": "code",
      "execution_count": null,
      "metadata": {
        "id": "5trunGL-VjS4",
        "outputId": "c579c42a-3200-4aff-d3e7-b2174f15a671"
      },
      "outputs": [
        {
          "name": "stdout",
          "output_type": "stream",
          "text": [
            "Accuracy of KNN with minkowski metrics:-\n",
            "53.166666666666664\n",
            "\n",
            "Report:- \n",
            "**************************************************\n",
            "              precision    recall  f1-score   support\n",
            "\n",
            "           0       0.67      0.66      0.66       151\n",
            "           1       0.35      0.48      0.41       135\n",
            "           2       0.42      0.42      0.42       151\n",
            "           3       0.78      0.56      0.65       163\n",
            "\n",
            "    accuracy                           0.53       600\n",
            "   macro avg       0.56      0.53      0.54       600\n",
            "weighted avg       0.57      0.53      0.54       600\n",
            "\n"
          ]
        }
      ],
      "source": [
        "accuracy= accuracy_score(y_test,store_prediction)\n",
        "print('Accuracy of KNN with minkowski metrics:-')\n",
        "print(accuracy*100)\n",
        "#Report\n",
        "print()\n",
        "print('Report:- ')\n",
        "print('*'*50)\n",
        "report_KNN = classification_report(y_test, store_prediction)\n",
        "print(report_KNN)"
      ]
    },
    {
      "cell_type": "code",
      "execution_count": null,
      "metadata": {
        "id": "1qXm3PwgVjS4",
        "outputId": "db370e00-cfea-4c9d-f5d2-a7f2ae4f8673"
      },
      "outputs": [
        {
          "name": "stdout",
          "output_type": "stream",
          "text": [
            "[[123  22   6   0]\n",
            " [ 54  52  21   8]\n",
            " [ 19  51  57  24]\n",
            " [  0   9  40 114]]\n",
            "\n",
            "\n",
            "Accuracy of KNN with cosine metrics:-\n",
            "57.666666666666664\n",
            "\n",
            "Report:- \n",
            "**************************************************\n",
            "              precision    recall  f1-score   support\n",
            "\n",
            "           0       0.63      0.81      0.71       151\n",
            "           1       0.39      0.39      0.39       135\n",
            "           2       0.46      0.38      0.41       151\n",
            "           3       0.78      0.70      0.74       163\n",
            "\n",
            "    accuracy                           0.58       600\n",
            "   macro avg       0.56      0.57      0.56       600\n",
            "weighted avg       0.57      0.58      0.57       600\n",
            "\n"
          ]
        }
      ],
      "source": [
        "#we will try using the cosine metric too. This might increase the accuracy\n",
        "classifier = KNeighborsClassifier(n_neighbors = 10, metric = 'cosine', p =2) #cosine Distance is used\n",
        "classifier.fit(X_train, y_train)\n",
        "store_prediction = classifier.predict(X_test)\n",
        "classifier_knn = confusion_matrix(y_test, store_prediction)\n",
        "print(classifier_knn)\n",
        "print()\n",
        "print()\n",
        "accuracy= accuracy_score(y_test,store_prediction)\n",
        "print('Accuracy of KNN with cosine metrics:-')\n",
        "print(accuracy*100)\n",
        "#Report\n",
        "print()\n",
        "print('Report:- ')\n",
        "print('*'*50)\n",
        "report_KNN = classification_report(y_test, store_prediction)\n",
        "print(report_KNN)"
      ]
    },
    {
      "cell_type": "code",
      "execution_count": null,
      "metadata": {
        "id": "W9ly8O1JVjS5"
      },
      "outputs": [],
      "source": [
        "#the accuracy with the cosine metrics is more as compared to the Minkowski"
      ]
    },
    {
      "cell_type": "code",
      "execution_count": null,
      "metadata": {
        "id": "cG4oiITGVjS5",
        "outputId": "8a9a54ef-4102-40ca-ea8a-45d2e33699ec"
      },
      "outputs": [
        {
          "data": {
            "text/html": [
              "<div>\n",
              "<style scoped>\n",
              "    .dataframe tbody tr th:only-of-type {\n",
              "        vertical-align: middle;\n",
              "    }\n",
              "\n",
              "    .dataframe tbody tr th {\n",
              "        vertical-align: top;\n",
              "    }\n",
              "\n",
              "    .dataframe thead th {\n",
              "        text-align: right;\n",
              "    }\n",
              "</style>\n",
              "<table border=\"1\" class=\"dataframe\">\n",
              "  <thead>\n",
              "    <tr style=\"text-align: right;\">\n",
              "      <th>dual_sim</th>\n",
              "      <th>0</th>\n",
              "      <th>1</th>\n",
              "      <th>Total</th>\n",
              "    </tr>\n",
              "    <tr>\n",
              "      <th>4G</th>\n",
              "      <th></th>\n",
              "      <th></th>\n",
              "      <th></th>\n",
              "    </tr>\n",
              "  </thead>\n",
              "  <tbody>\n",
              "    <tr>\n",
              "      <th>0</th>\n",
              "      <td>23.6</td>\n",
              "      <td>24.3</td>\n",
              "      <td>47.8</td>\n",
              "    </tr>\n",
              "    <tr>\n",
              "      <th>1</th>\n",
              "      <td>25.5</td>\n",
              "      <td>26.6</td>\n",
              "      <td>52.2</td>\n",
              "    </tr>\n",
              "    <tr>\n",
              "      <th>Total</th>\n",
              "      <td>49.0</td>\n",
              "      <td>50.9</td>\n",
              "      <td>100.0</td>\n",
              "    </tr>\n",
              "  </tbody>\n",
              "</table>\n",
              "</div>"
            ],
            "text/plain": [
              "dual_sim     0     1  Total\n",
              "4G                         \n",
              "0         23.6  24.3   47.8\n",
              "1         25.5  26.6   52.2\n",
              "Total     49.0  50.9  100.0"
            ]
          },
          "execution_count": 41,
          "metadata": {},
          "output_type": "execute_result"
        }
      ],
      "source": [
        "#all the classifiers are done. Now we can try doing crosstabulation. \n",
        "#The variable chosen here are four_g and dual sim. We can find does every phone with four_g have dual sim or not. \n",
        "import pandas as pd\n",
        "100*pd.crosstab(my_trainingdataset['four_g'], my_trainingdataset['dual_sim'], rownames=['4G'],margins = True, margins_name = 'Total',\n",
        "                 normalize = True).round(3)"
      ]
    },
    {
      "cell_type": "code",
      "execution_count": null,
      "metadata": {
        "id": "E5hjD9gxVjS5",
        "outputId": "8ad2ad4c-e6fe-4b3e-c5b1-957bdb84eecb"
      },
      "outputs": [
        {
          "data": {
            "text/html": [
              "<div>\n",
              "<style scoped>\n",
              "    .dataframe tbody tr th:only-of-type {\n",
              "        vertical-align: middle;\n",
              "    }\n",
              "\n",
              "    .dataframe tbody tr th {\n",
              "        vertical-align: top;\n",
              "    }\n",
              "\n",
              "    .dataframe thead th {\n",
              "        text-align: right;\n",
              "    }\n",
              "</style>\n",
              "<table border=\"1\" class=\"dataframe\">\n",
              "  <thead>\n",
              "    <tr style=\"text-align: right;\">\n",
              "      <th></th>\n",
              "      <th>battery_power</th>\n",
              "      <th>blue</th>\n",
              "      <th>clock_speed</th>\n",
              "      <th>dual_sim</th>\n",
              "      <th>fc</th>\n",
              "      <th>four_g</th>\n",
              "      <th>int_memory</th>\n",
              "      <th>m_dep</th>\n",
              "      <th>mobile_wt</th>\n",
              "      <th>n_cores</th>\n",
              "      <th>...</th>\n",
              "      <th>px_height</th>\n",
              "      <th>px_width</th>\n",
              "      <th>ram</th>\n",
              "      <th>sc_h</th>\n",
              "      <th>sc_w</th>\n",
              "      <th>talk_time</th>\n",
              "      <th>three_g</th>\n",
              "      <th>touch_screen</th>\n",
              "      <th>wifi</th>\n",
              "      <th>price_range</th>\n",
              "    </tr>\n",
              "  </thead>\n",
              "  <tbody>\n",
              "    <tr>\n",
              "      <th>0</th>\n",
              "      <td>842</td>\n",
              "      <td>0</td>\n",
              "      <td>2.2</td>\n",
              "      <td>0</td>\n",
              "      <td>1</td>\n",
              "      <td>0</td>\n",
              "      <td>7</td>\n",
              "      <td>0.6</td>\n",
              "      <td>188</td>\n",
              "      <td>2</td>\n",
              "      <td>...</td>\n",
              "      <td>20</td>\n",
              "      <td>756</td>\n",
              "      <td>2549</td>\n",
              "      <td>9</td>\n",
              "      <td>7</td>\n",
              "      <td>19</td>\n",
              "      <td>0</td>\n",
              "      <td>0</td>\n",
              "      <td>1</td>\n",
              "      <td>1</td>\n",
              "    </tr>\n",
              "    <tr>\n",
              "      <th>3</th>\n",
              "      <td>615</td>\n",
              "      <td>1</td>\n",
              "      <td>2.5</td>\n",
              "      <td>0</td>\n",
              "      <td>0</td>\n",
              "      <td>0</td>\n",
              "      <td>10</td>\n",
              "      <td>0.8</td>\n",
              "      <td>131</td>\n",
              "      <td>6</td>\n",
              "      <td>...</td>\n",
              "      <td>1216</td>\n",
              "      <td>1786</td>\n",
              "      <td>2769</td>\n",
              "      <td>16</td>\n",
              "      <td>8</td>\n",
              "      <td>11</td>\n",
              "      <td>1</td>\n",
              "      <td>0</td>\n",
              "      <td>0</td>\n",
              "      <td>2</td>\n",
              "    </tr>\n",
              "    <tr>\n",
              "      <th>8</th>\n",
              "      <td>1445</td>\n",
              "      <td>1</td>\n",
              "      <td>0.5</td>\n",
              "      <td>0</td>\n",
              "      <td>0</td>\n",
              "      <td>0</td>\n",
              "      <td>53</td>\n",
              "      <td>0.7</td>\n",
              "      <td>174</td>\n",
              "      <td>7</td>\n",
              "      <td>...</td>\n",
              "      <td>386</td>\n",
              "      <td>836</td>\n",
              "      <td>1099</td>\n",
              "      <td>17</td>\n",
              "      <td>1</td>\n",
              "      <td>20</td>\n",
              "      <td>1</td>\n",
              "      <td>0</td>\n",
              "      <td>0</td>\n",
              "      <td>0</td>\n",
              "    </tr>\n",
              "    <tr>\n",
              "      <th>12</th>\n",
              "      <td>1815</td>\n",
              "      <td>0</td>\n",
              "      <td>2.8</td>\n",
              "      <td>0</td>\n",
              "      <td>2</td>\n",
              "      <td>0</td>\n",
              "      <td>33</td>\n",
              "      <td>0.6</td>\n",
              "      <td>159</td>\n",
              "      <td>4</td>\n",
              "      <td>...</td>\n",
              "      <td>607</td>\n",
              "      <td>748</td>\n",
              "      <td>1482</td>\n",
              "      <td>18</td>\n",
              "      <td>0</td>\n",
              "      <td>2</td>\n",
              "      <td>1</td>\n",
              "      <td>0</td>\n",
              "      <td>0</td>\n",
              "      <td>1</td>\n",
              "    </tr>\n",
              "    <tr>\n",
              "      <th>13</th>\n",
              "      <td>803</td>\n",
              "      <td>1</td>\n",
              "      <td>2.1</td>\n",
              "      <td>0</td>\n",
              "      <td>7</td>\n",
              "      <td>0</td>\n",
              "      <td>17</td>\n",
              "      <td>1.0</td>\n",
              "      <td>198</td>\n",
              "      <td>4</td>\n",
              "      <td>...</td>\n",
              "      <td>344</td>\n",
              "      <td>1440</td>\n",
              "      <td>2680</td>\n",
              "      <td>7</td>\n",
              "      <td>1</td>\n",
              "      <td>4</td>\n",
              "      <td>1</td>\n",
              "      <td>0</td>\n",
              "      <td>1</td>\n",
              "      <td>2</td>\n",
              "    </tr>\n",
              "  </tbody>\n",
              "</table>\n",
              "<p>5 rows × 21 columns</p>\n",
              "</div>"
            ],
            "text/plain": [
              "    battery_power  blue  clock_speed  dual_sim  fc  four_g  int_memory  m_dep  \\\n",
              "0             842     0          2.2         0   1       0           7    0.6   \n",
              "3             615     1          2.5         0   0       0          10    0.8   \n",
              "8            1445     1          0.5         0   0       0          53    0.7   \n",
              "12           1815     0          2.8         0   2       0          33    0.6   \n",
              "13            803     1          2.1         0   7       0          17    1.0   \n",
              "\n",
              "    mobile_wt  n_cores  ...  px_height  px_width   ram  sc_h  sc_w  talk_time  \\\n",
              "0         188        2  ...         20       756  2549     9     7         19   \n",
              "3         131        6  ...       1216      1786  2769    16     8         11   \n",
              "8         174        7  ...        386       836  1099    17     1         20   \n",
              "12        159        4  ...        607       748  1482    18     0          2   \n",
              "13        198        4  ...        344      1440  2680     7     1          4   \n",
              "\n",
              "    three_g  touch_screen  wifi  price_range  \n",
              "0         0             0     1            1  \n",
              "3         1             0     0            2  \n",
              "8         1             0     0            0  \n",
              "12        1             0     0            1  \n",
              "13        1             0     1            2  \n",
              "\n",
              "[5 rows x 21 columns]"
            ]
          },
          "execution_count": 42,
          "metadata": {},
          "output_type": "execute_result"
        }
      ],
      "source": [
        "# Now we can do the Subsetting of the data to identify which price class of phone dont have four_g and dual_sim\n",
        "sub_df = my_trainingdataset[(my_trainingdataset['dual_sim']==0) & (my_trainingdataset['four_g']==0)]\n",
        "sub_df.head()"
      ]
    },
    {
      "cell_type": "code",
      "execution_count": null,
      "metadata": {
        "id": "fmsbhSFqVjS5",
        "outputId": "f5b0a33d-cfc4-4e2b-e8d5-62bbc5d06f8d"
      },
      "outputs": [
        {
          "data": {
            "text/plain": [
              "0    128\n",
              "2    125\n",
              "1    114\n",
              "3    104\n",
              "Name: price_range, dtype: int64"
            ]
          },
          "execution_count": 43,
          "metadata": {},
          "output_type": "execute_result"
        }
      ],
      "source": [
        "#the above table shows there are no phones which doesnt have both 4g and dual sim.\n",
        "sub_df['price_range'].value_counts()"
      ]
    },
    {
      "cell_type": "code",
      "execution_count": null,
      "metadata": {
        "id": "eEPqFoLAVjS6"
      },
      "outputs": [],
      "source": [
        "# We will add another column with the name of price range so that it will be easy for interpreatation\n",
        "price_map = {0:'Low Cost', 1:'Medium Cost', 2:'High Cost', 3:'Expensive'}\n",
        "\n",
        "my_trainingdataset['price_range_cat'] = my_trainingdataset['price_range'].map(price_map)"
      ]
    },
    {
      "cell_type": "code",
      "execution_count": null,
      "metadata": {
        "id": "SbDyZ_GwVjS6",
        "outputId": "7bc11aff-e2c3-401f-8a08-ff5449196cdb"
      },
      "outputs": [
        {
          "data": {
            "text/html": [
              "<div>\n",
              "<style scoped>\n",
              "    .dataframe tbody tr th:only-of-type {\n",
              "        vertical-align: middle;\n",
              "    }\n",
              "\n",
              "    .dataframe tbody tr th {\n",
              "        vertical-align: top;\n",
              "    }\n",
              "\n",
              "    .dataframe thead th {\n",
              "        text-align: right;\n",
              "    }\n",
              "</style>\n",
              "<table border=\"1\" class=\"dataframe\">\n",
              "  <thead>\n",
              "    <tr style=\"text-align: right;\">\n",
              "      <th></th>\n",
              "      <th>battery_power</th>\n",
              "      <th>blue</th>\n",
              "      <th>clock_speed</th>\n",
              "      <th>dual_sim</th>\n",
              "      <th>fc</th>\n",
              "      <th>four_g</th>\n",
              "      <th>int_memory</th>\n",
              "      <th>m_dep</th>\n",
              "      <th>mobile_wt</th>\n",
              "      <th>n_cores</th>\n",
              "      <th>...</th>\n",
              "      <th>px_width</th>\n",
              "      <th>ram</th>\n",
              "      <th>sc_h</th>\n",
              "      <th>sc_w</th>\n",
              "      <th>talk_time</th>\n",
              "      <th>three_g</th>\n",
              "      <th>touch_screen</th>\n",
              "      <th>wifi</th>\n",
              "      <th>price_range</th>\n",
              "      <th>price_range_cat</th>\n",
              "    </tr>\n",
              "  </thead>\n",
              "  <tbody>\n",
              "    <tr>\n",
              "      <th>0</th>\n",
              "      <td>842</td>\n",
              "      <td>0</td>\n",
              "      <td>2.2</td>\n",
              "      <td>0</td>\n",
              "      <td>1</td>\n",
              "      <td>0</td>\n",
              "      <td>7</td>\n",
              "      <td>0.6</td>\n",
              "      <td>188</td>\n",
              "      <td>2</td>\n",
              "      <td>...</td>\n",
              "      <td>756</td>\n",
              "      <td>2549</td>\n",
              "      <td>9</td>\n",
              "      <td>7</td>\n",
              "      <td>19</td>\n",
              "      <td>0</td>\n",
              "      <td>0</td>\n",
              "      <td>1</td>\n",
              "      <td>1</td>\n",
              "      <td>Medium Cost</td>\n",
              "    </tr>\n",
              "    <tr>\n",
              "      <th>1</th>\n",
              "      <td>1021</td>\n",
              "      <td>1</td>\n",
              "      <td>0.5</td>\n",
              "      <td>1</td>\n",
              "      <td>0</td>\n",
              "      <td>1</td>\n",
              "      <td>53</td>\n",
              "      <td>0.7</td>\n",
              "      <td>136</td>\n",
              "      <td>3</td>\n",
              "      <td>...</td>\n",
              "      <td>1988</td>\n",
              "      <td>2631</td>\n",
              "      <td>17</td>\n",
              "      <td>3</td>\n",
              "      <td>7</td>\n",
              "      <td>1</td>\n",
              "      <td>1</td>\n",
              "      <td>0</td>\n",
              "      <td>2</td>\n",
              "      <td>High Cost</td>\n",
              "    </tr>\n",
              "    <tr>\n",
              "      <th>2</th>\n",
              "      <td>563</td>\n",
              "      <td>1</td>\n",
              "      <td>0.5</td>\n",
              "      <td>1</td>\n",
              "      <td>2</td>\n",
              "      <td>1</td>\n",
              "      <td>41</td>\n",
              "      <td>0.9</td>\n",
              "      <td>145</td>\n",
              "      <td>5</td>\n",
              "      <td>...</td>\n",
              "      <td>1716</td>\n",
              "      <td>2603</td>\n",
              "      <td>11</td>\n",
              "      <td>2</td>\n",
              "      <td>9</td>\n",
              "      <td>1</td>\n",
              "      <td>1</td>\n",
              "      <td>0</td>\n",
              "      <td>2</td>\n",
              "      <td>High Cost</td>\n",
              "    </tr>\n",
              "    <tr>\n",
              "      <th>3</th>\n",
              "      <td>615</td>\n",
              "      <td>1</td>\n",
              "      <td>2.5</td>\n",
              "      <td>0</td>\n",
              "      <td>0</td>\n",
              "      <td>0</td>\n",
              "      <td>10</td>\n",
              "      <td>0.8</td>\n",
              "      <td>131</td>\n",
              "      <td>6</td>\n",
              "      <td>...</td>\n",
              "      <td>1786</td>\n",
              "      <td>2769</td>\n",
              "      <td>16</td>\n",
              "      <td>8</td>\n",
              "      <td>11</td>\n",
              "      <td>1</td>\n",
              "      <td>0</td>\n",
              "      <td>0</td>\n",
              "      <td>2</td>\n",
              "      <td>High Cost</td>\n",
              "    </tr>\n",
              "    <tr>\n",
              "      <th>4</th>\n",
              "      <td>1821</td>\n",
              "      <td>1</td>\n",
              "      <td>1.2</td>\n",
              "      <td>0</td>\n",
              "      <td>13</td>\n",
              "      <td>1</td>\n",
              "      <td>44</td>\n",
              "      <td>0.6</td>\n",
              "      <td>141</td>\n",
              "      <td>2</td>\n",
              "      <td>...</td>\n",
              "      <td>1212</td>\n",
              "      <td>1411</td>\n",
              "      <td>8</td>\n",
              "      <td>2</td>\n",
              "      <td>15</td>\n",
              "      <td>1</td>\n",
              "      <td>1</td>\n",
              "      <td>0</td>\n",
              "      <td>1</td>\n",
              "      <td>Medium Cost</td>\n",
              "    </tr>\n",
              "  </tbody>\n",
              "</table>\n",
              "<p>5 rows × 22 columns</p>\n",
              "</div>"
            ],
            "text/plain": [
              "   battery_power  blue  clock_speed  dual_sim  fc  four_g  int_memory  m_dep  \\\n",
              "0            842     0          2.2         0   1       0           7    0.6   \n",
              "1           1021     1          0.5         1   0       1          53    0.7   \n",
              "2            563     1          0.5         1   2       1          41    0.9   \n",
              "3            615     1          2.5         0   0       0          10    0.8   \n",
              "4           1821     1          1.2         0  13       1          44    0.6   \n",
              "\n",
              "   mobile_wt  n_cores  ...  px_width   ram  sc_h  sc_w  talk_time  three_g  \\\n",
              "0        188        2  ...       756  2549     9     7         19        0   \n",
              "1        136        3  ...      1988  2631    17     3          7        1   \n",
              "2        145        5  ...      1716  2603    11     2          9        1   \n",
              "3        131        6  ...      1786  2769    16     8         11        1   \n",
              "4        141        2  ...      1212  1411     8     2         15        1   \n",
              "\n",
              "   touch_screen  wifi  price_range  price_range_cat  \n",
              "0             0     1            1      Medium Cost  \n",
              "1             1     0            2        High Cost  \n",
              "2             1     0            2        High Cost  \n",
              "3             0     0            2        High Cost  \n",
              "4             1     0            1      Medium Cost  \n",
              "\n",
              "[5 rows x 22 columns]"
            ]
          },
          "execution_count": 45,
          "metadata": {},
          "output_type": "execute_result"
        }
      ],
      "source": [
        "my_trainingdataset.head()"
      ]
    },
    {
      "cell_type": "code",
      "execution_count": null,
      "metadata": {
        "id": "bbhsQR-HVjS6"
      },
      "outputs": [],
      "source": [
        "#a new coloumn was added successfully"
      ]
    },
    {
      "cell_type": "code",
      "execution_count": null,
      "metadata": {
        "id": "2tmrxMJGVjS6",
        "outputId": "61839cd8-7857-44b8-f2ae-c57a5e759ca2"
      },
      "outputs": [
        {
          "data": {
            "text/html": [
              "<div>\n",
              "<style scoped>\n",
              "    .dataframe tbody tr th:only-of-type {\n",
              "        vertical-align: middle;\n",
              "    }\n",
              "\n",
              "    .dataframe tbody tr th {\n",
              "        vertical-align: top;\n",
              "    }\n",
              "\n",
              "    .dataframe thead th {\n",
              "        text-align: right;\n",
              "    }\n",
              "</style>\n",
              "<table border=\"1\" class=\"dataframe\">\n",
              "  <thead>\n",
              "    <tr style=\"text-align: right;\">\n",
              "      <th>dual_sim</th>\n",
              "      <th>0</th>\n",
              "      <th>1</th>\n",
              "      <th>Total</th>\n",
              "    </tr>\n",
              "    <tr>\n",
              "      <th>4G</th>\n",
              "      <th></th>\n",
              "      <th></th>\n",
              "      <th></th>\n",
              "    </tr>\n",
              "  </thead>\n",
              "  <tbody>\n",
              "    <tr>\n",
              "      <th>0</th>\n",
              "      <td>23.6</td>\n",
              "      <td>24.3</td>\n",
              "      <td>47.8</td>\n",
              "    </tr>\n",
              "    <tr>\n",
              "      <th>1</th>\n",
              "      <td>25.5</td>\n",
              "      <td>26.6</td>\n",
              "      <td>52.2</td>\n",
              "    </tr>\n",
              "    <tr>\n",
              "      <th>Total</th>\n",
              "      <td>49.0</td>\n",
              "      <td>50.9</td>\n",
              "      <td>100.0</td>\n",
              "    </tr>\n",
              "  </tbody>\n",
              "</table>\n",
              "</div>"
            ],
            "text/plain": [
              "dual_sim     0     1  Total\n",
              "4G                         \n",
              "0         23.6  24.3   47.8\n",
              "1         25.5  26.6   52.2\n",
              "Total     49.0  50.9  100.0"
            ]
          },
          "execution_count": 47,
          "metadata": {},
          "output_type": "execute_result"
        }
      ],
      "source": [
        "#repeting the crosstabulation, because we added new row\n",
        "100*pd.crosstab(my_trainingdataset['four_g'], my_trainingdataset['dual_sim'], rownames=['4G'],margins = True, margins_name = 'Total',\n",
        "                 normalize = True).round(3)"
      ]
    },
    {
      "cell_type": "code",
      "execution_count": null,
      "metadata": {
        "id": "95zyXnsGVjS6",
        "outputId": "8b1a75db-cff1-4773-e72c-e7ee27ce767d"
      },
      "outputs": [
        {
          "data": {
            "text/html": [
              "<div>\n",
              "<style scoped>\n",
              "    .dataframe tbody tr th:only-of-type {\n",
              "        vertical-align: middle;\n",
              "    }\n",
              "\n",
              "    .dataframe tbody tr th {\n",
              "        vertical-align: top;\n",
              "    }\n",
              "\n",
              "    .dataframe thead th {\n",
              "        text-align: right;\n",
              "    }\n",
              "</style>\n",
              "<table border=\"1\" class=\"dataframe\">\n",
              "  <thead>\n",
              "    <tr style=\"text-align: right;\">\n",
              "      <th></th>\n",
              "      <th>battery_power</th>\n",
              "      <th>blue</th>\n",
              "      <th>clock_speed</th>\n",
              "      <th>dual_sim</th>\n",
              "      <th>fc</th>\n",
              "      <th>four_g</th>\n",
              "      <th>int_memory</th>\n",
              "      <th>m_dep</th>\n",
              "      <th>mobile_wt</th>\n",
              "      <th>n_cores</th>\n",
              "      <th>...</th>\n",
              "      <th>px_width</th>\n",
              "      <th>ram</th>\n",
              "      <th>sc_h</th>\n",
              "      <th>sc_w</th>\n",
              "      <th>talk_time</th>\n",
              "      <th>three_g</th>\n",
              "      <th>touch_screen</th>\n",
              "      <th>wifi</th>\n",
              "      <th>price_range</th>\n",
              "      <th>price_range_cat</th>\n",
              "    </tr>\n",
              "  </thead>\n",
              "  <tbody>\n",
              "    <tr>\n",
              "      <th>0</th>\n",
              "      <td>842</td>\n",
              "      <td>0</td>\n",
              "      <td>2.2</td>\n",
              "      <td>0</td>\n",
              "      <td>1</td>\n",
              "      <td>0</td>\n",
              "      <td>7</td>\n",
              "      <td>0.6</td>\n",
              "      <td>188</td>\n",
              "      <td>2</td>\n",
              "      <td>...</td>\n",
              "      <td>756</td>\n",
              "      <td>2549</td>\n",
              "      <td>9</td>\n",
              "      <td>7</td>\n",
              "      <td>19</td>\n",
              "      <td>0</td>\n",
              "      <td>0</td>\n",
              "      <td>1</td>\n",
              "      <td>1</td>\n",
              "      <td>Medium Cost</td>\n",
              "    </tr>\n",
              "    <tr>\n",
              "      <th>3</th>\n",
              "      <td>615</td>\n",
              "      <td>1</td>\n",
              "      <td>2.5</td>\n",
              "      <td>0</td>\n",
              "      <td>0</td>\n",
              "      <td>0</td>\n",
              "      <td>10</td>\n",
              "      <td>0.8</td>\n",
              "      <td>131</td>\n",
              "      <td>6</td>\n",
              "      <td>...</td>\n",
              "      <td>1786</td>\n",
              "      <td>2769</td>\n",
              "      <td>16</td>\n",
              "      <td>8</td>\n",
              "      <td>11</td>\n",
              "      <td>1</td>\n",
              "      <td>0</td>\n",
              "      <td>0</td>\n",
              "      <td>2</td>\n",
              "      <td>High Cost</td>\n",
              "    </tr>\n",
              "    <tr>\n",
              "      <th>8</th>\n",
              "      <td>1445</td>\n",
              "      <td>1</td>\n",
              "      <td>0.5</td>\n",
              "      <td>0</td>\n",
              "      <td>0</td>\n",
              "      <td>0</td>\n",
              "      <td>53</td>\n",
              "      <td>0.7</td>\n",
              "      <td>174</td>\n",
              "      <td>7</td>\n",
              "      <td>...</td>\n",
              "      <td>836</td>\n",
              "      <td>1099</td>\n",
              "      <td>17</td>\n",
              "      <td>1</td>\n",
              "      <td>20</td>\n",
              "      <td>1</td>\n",
              "      <td>0</td>\n",
              "      <td>0</td>\n",
              "      <td>0</td>\n",
              "      <td>Low Cost</td>\n",
              "    </tr>\n",
              "    <tr>\n",
              "      <th>12</th>\n",
              "      <td>1815</td>\n",
              "      <td>0</td>\n",
              "      <td>2.8</td>\n",
              "      <td>0</td>\n",
              "      <td>2</td>\n",
              "      <td>0</td>\n",
              "      <td>33</td>\n",
              "      <td>0.6</td>\n",
              "      <td>159</td>\n",
              "      <td>4</td>\n",
              "      <td>...</td>\n",
              "      <td>748</td>\n",
              "      <td>1482</td>\n",
              "      <td>18</td>\n",
              "      <td>0</td>\n",
              "      <td>2</td>\n",
              "      <td>1</td>\n",
              "      <td>0</td>\n",
              "      <td>0</td>\n",
              "      <td>1</td>\n",
              "      <td>Medium Cost</td>\n",
              "    </tr>\n",
              "    <tr>\n",
              "      <th>13</th>\n",
              "      <td>803</td>\n",
              "      <td>1</td>\n",
              "      <td>2.1</td>\n",
              "      <td>0</td>\n",
              "      <td>7</td>\n",
              "      <td>0</td>\n",
              "      <td>17</td>\n",
              "      <td>1.0</td>\n",
              "      <td>198</td>\n",
              "      <td>4</td>\n",
              "      <td>...</td>\n",
              "      <td>1440</td>\n",
              "      <td>2680</td>\n",
              "      <td>7</td>\n",
              "      <td>1</td>\n",
              "      <td>4</td>\n",
              "      <td>1</td>\n",
              "      <td>0</td>\n",
              "      <td>1</td>\n",
              "      <td>2</td>\n",
              "      <td>High Cost</td>\n",
              "    </tr>\n",
              "  </tbody>\n",
              "</table>\n",
              "<p>5 rows × 22 columns</p>\n",
              "</div>"
            ],
            "text/plain": [
              "    battery_power  blue  clock_speed  dual_sim  fc  four_g  int_memory  m_dep  \\\n",
              "0             842     0          2.2         0   1       0           7    0.6   \n",
              "3             615     1          2.5         0   0       0          10    0.8   \n",
              "8            1445     1          0.5         0   0       0          53    0.7   \n",
              "12           1815     0          2.8         0   2       0          33    0.6   \n",
              "13            803     1          2.1         0   7       0          17    1.0   \n",
              "\n",
              "    mobile_wt  n_cores  ...  px_width   ram  sc_h  sc_w  talk_time  three_g  \\\n",
              "0         188        2  ...       756  2549     9     7         19        0   \n",
              "3         131        6  ...      1786  2769    16     8         11        1   \n",
              "8         174        7  ...       836  1099    17     1         20        1   \n",
              "12        159        4  ...       748  1482    18     0          2        1   \n",
              "13        198        4  ...      1440  2680     7     1          4        1   \n",
              "\n",
              "    touch_screen  wifi  price_range  price_range_cat  \n",
              "0              0     1            1      Medium Cost  \n",
              "3              0     0            2        High Cost  \n",
              "8              0     0            0         Low Cost  \n",
              "12             0     0            1      Medium Cost  \n",
              "13             0     1            2        High Cost  \n",
              "\n",
              "[5 rows x 22 columns]"
            ]
          },
          "execution_count": 48,
          "metadata": {},
          "output_type": "execute_result"
        }
      ],
      "source": [
        "# Now we can do the Subsetting of the data to identify which price class of phone dont have four_g and dual_sim\n",
        "sub_df = my_trainingdataset[(my_trainingdataset['dual_sim']==0) & (my_trainingdataset['four_g']==0)]\n",
        "sub_df.head()"
      ]
    },
    {
      "cell_type": "code",
      "execution_count": null,
      "metadata": {
        "id": "0RcbzzYrVjS7",
        "outputId": "661af890-aa0a-4e16-ea19-62588b3159f0"
      },
      "outputs": [
        {
          "data": {
            "text/plain": [
              "Low Cost       128\n",
              "High Cost      125\n",
              "Medium Cost    114\n",
              "Expensive      104\n",
              "Name: price_range_cat, dtype: int64"
            ]
          },
          "execution_count": 49,
          "metadata": {},
          "output_type": "execute_result"
        }
      ],
      "source": [
        "#the above table shows there are no phones which doesnt have both 4g and dual sim.\n",
        "sub_df['price_range_cat'].value_counts()"
      ]
    },
    {
      "cell_type": "code",
      "execution_count": null,
      "metadata": {
        "id": "KFQUJTsPVjS7",
        "outputId": "793e20f6-d3a2-40d9-8a66-5955fd2db18f"
      },
      "outputs": [
        {
          "data": {
            "image/png": "[encoded data removed]",
            "text/plain": [
              "<Figure size 432x288 with 1 Axes>"
            ]
          },
          "metadata": {},
          "output_type": "display_data"
        }
      ],
      "source": [
        "#visualzing the data\n",
        "import seaborn as sns\n",
        "trainPriceRange = my_trainingdataset[\"price_range\"]\n",
        "counter = collections.Counter(trainPriceRange)\n",
        "counterTable = [[x, y] for x, y in counter.items()]\n",
        "counterDataFrame = pd.DataFrame(data = counterTable, columns = ['priceRange', 'count'])\n",
        "\n",
        "sns.set(style=\"whitegrid\")\n",
        "ax = sns.barplot(x=\"priceRange\", y=\"count\", data=counterDataFrame)"
      ]
    }
  ],
  "metadata": {
    "kernelspec": {
      "display_name": "Python 3",
      "language": "python",
      "name": "python3"
    },
    "language_info": {
      "codemirror_mode": {
        "name": "ipython",
        "version": 3
      },
      "file_extension": ".py",
      "mimetype": "text/x-python",
      "name": "python",
      "nbconvert_exporter": "python",
      "pygments_lexer": "ipython3",
      "version": "3.8.5"
    },
    "colab": {
      "provenance": [],
      "include_colab_link": true
    }
  },
  "nbformat": 4,
  "nbformat_minor": 0
}